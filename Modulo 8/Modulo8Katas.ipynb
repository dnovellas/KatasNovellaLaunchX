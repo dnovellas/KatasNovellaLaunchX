{
 "cells": [
  {
   "cell_type": "markdown",
   "metadata": {},
   "source": [
    "Ejercicio 1: Creación de diccionarios de Python"
   ]
  },
  {
   "cell_type": "code",
   "execution_count": 13,
   "metadata": {},
   "outputs": [
    {
     "name": "stdout",
     "output_type": "stream",
     "text": [
      "The Planet Mars has 2 moons.\n",
      "The Planet Mars has a polar diameter of 6752 and equatorial diameter of 6792 .\n"
     ]
    }
   ],
   "source": [
    "# Crea un diccionario llamado planet con los datos propuestos\n",
    "mars = {'Name': 'Mars', 'Moons': 2}\n",
    "# Muestra el nombre del planeta y el número de lunas que tiene.\n",
    "\n",
    "# print(mars['Name'])\n",
    "# print(mars['Moons'])\n",
    "\n",
    "print(f'The Planet {mars.get(\"Name\")} has {mars.get(\"Moons\")} moons.')\n",
    "\n",
    "# Agrega la clave circunferencia con los datos proporcionados previamente\n",
    "mars['diameter (km)'] = {\n",
    "  'polar': 6752,\n",
    "  'equatorial': 6792\n",
    "}\n",
    "# Imprime el nombre del planeta con su circunferencia polar.\n",
    "\n",
    "print(\n",
    "    f'The Planet {mars.get(\"Name\")} has a polar diameter of {mars[\"diameter (km)\"][\"polar\"]} and equatorial diameter of {mars[\"diameter (km)\"][\"equatorial\"]} .')\n"
   ]
  },
  {
   "cell_type": "markdown",
   "metadata": {},
   "source": [
    "Ejercicio 2: Programación dinámica con diccionarios"
   ]
  },
  {
   "cell_type": "code",
   "execution_count": 17,
   "metadata": {},
   "outputs": [
    {
     "name": "stdout",
     "output_type": "stream",
     "text": [
      "Our Solar System has 214 moons. It has an average of 17.833333333333332 Moons per Planet.\n"
     ]
    }
   ],
   "source": [
    "# Planets and moons\n",
    "\n",
    "planet_moons = {\n",
    "    'mercury': 0,\n",
    "    'venus': 0,\n",
    "    'earth': 1,\n",
    "    'mars': 2,\n",
    "    'jupiter': 79,\n",
    "    'saturn': 82,\n",
    "    'uranus': 27,\n",
    "    'neptune': 14,\n",
    "    'pluto': 5,\n",
    "    'haumea': 2,\n",
    "    'makemake': 1,\n",
    "    'eris': 1\n",
    "}\n",
    "# Añade el código para determinar el número de lunas.\n",
    "moons = 0\n",
    "planets = len(planet_moons.keys())\n",
    "for planetMoons in planet_moons.values():\n",
    "  moons += planetMoons\n",
    "\n",
    "print(f'Our Solar System has {moons} moons. It has an average of {moons/planets} Moons per Planet.')\n"
   ]
  }
 ],
 "metadata": {
  "interpreter": {
   "hash": "0aa81fd4a772a8b1e375e8f720fa044defc14a0a448e8667a1098847b41a8cc6"
  },
  "kernelspec": {
   "display_name": "Python 3.10.2 64-bit (windows store)",
   "language": "python",
   "name": "python3"
  },
  "language_info": {
   "codemirror_mode": {
    "name": "ipython",
    "version": 3
   },
   "file_extension": ".py",
   "mimetype": "text/x-python",
   "name": "python",
   "nbconvert_exporter": "python",
   "pygments_lexer": "ipython3",
   "version": "3.10.2"
  },
  "orig_nbformat": 4
 },
 "nbformat": 4,
 "nbformat_minor": 2
}
