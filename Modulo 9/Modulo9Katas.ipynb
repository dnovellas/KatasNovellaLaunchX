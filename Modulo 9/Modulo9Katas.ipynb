{
 "cells": [
  {
   "cell_type": "markdown",
   "metadata": {},
   "source": [
    "Ejercicio 1: Trabajar con argumentos en funciones"
   ]
  },
  {
   "cell_type": "code",
   "execution_count": 3,
   "metadata": {},
   "outputs": [
    {
     "name": "stdout",
     "output_type": "stream",
     "text": [
      "Fuel report of the ship:\n",
      "  First Tank:1 liters\n",
      "  Second Tank: 2 liters\n",
      "  Third Tank: 3 liters\n",
      "  Average Fuel of the ship:2.0 liters\n",
      "  \n"
     ]
    }
   ],
   "source": [
    "# Función para leer 3 tanques de combustible y muestre el promedio\n",
    "\n",
    "def generateReportAverageFuel(tank1,tank2, tank3):\n",
    "  averageFuel = calculateAverageFuel(tank1, tank2,tank3)\n",
    "  return f\"\"\"Fuel report of the ship:\n",
    "  First Tank:{tank1} liters\n",
    "  Second Tank: {tank2} liters\n",
    "  Third Tank: {tank3} liters\n",
    "  Average Fuel of the ship:{averageFuel} liters\n",
    "  \"\"\"\n",
    "\n",
    "def calculateAverageFuel(tank1, tank2, tank3):\n",
    "  averageFuel = (tank1 + tank2 + tank3)/3\n",
    "  return averageFuel\n",
    "\n",
    "print(generateReportAverageFuel(1, 2, 3))\n",
    "\n",
    "# Función promedio\n"
   ]
  },
  {
   "cell_type": "markdown",
   "metadata": {},
   "source": [
    "Ejercicio 2: Trabajo con argumentos de palabra clave"
   ]
  },
  {
   "cell_type": "code",
   "execution_count": 15,
   "metadata": {},
   "outputs": [
    {
     "name": "stdout",
     "output_type": "stream",
     "text": [
      "\n",
      "  Detailed Mission Report\n",
      "  ______________________________________________\n",
      "  Prelauch Time: 00:00\n",
      "  Fligh Time: 50 hrs\n",
      "  Destination: Moon\n",
      "  External Fuel Tank: 2000 Gal\n",
      "  Interna Fuel Tank: 1000 Gal\n",
      "  \n",
      "\n",
      "  Detailed Mission Report #2\n",
      "  ______________________________________________\n",
      "  Prelauch Time: Moon\n",
      "  Fligh Time: 360 minutes\n",
      "  Destination: 60\n",
      "  total Fuel on Tanks: 3000 Gal  \n",
      "  \n",
      "\n",
      "  Detailed Mission Report #3\n",
      "  ______________________________________________\n",
      "  Prelauch Time: Moon\n",
      "  Fligh Time: 360 minutes\n",
      "  Destination: 60\n",
      "  total Fuel on Tanks: 3000 Gal \n",
      "  Detailed fuel on Tanks:\n",
      "  internalTank: 1000 Gal\n",
      "externalTank: 2000 Gal\n",
      "\n"
     ]
    }
   ],
   "source": [
    "# Función con un informe preciso de la misión. Considera hora de prelanzamiento, tiempo de vuelo, destino, tanque externo y tanque interno\n",
    "def getMissionReport(prelauchTime, flighTime, destination, externalTank, internalTank):\n",
    "  return f\"\"\"\n",
    "  Detailed Mission Report\n",
    "  ______________________________________________\n",
    "  Prelauch Time: {prelauchTime}\n",
    "  Fligh Time: {flighTime} hrs\n",
    "  Destination: {destination}\n",
    "  External Fuel Tank: {externalTank} Gal\n",
    "  Interna Fuel Tank: {internalTank} Gal\n",
    "  \"\"\"\n",
    "\n",
    "print(getMissionReport('00:00', 50, 'Moon', 2000, 1000))\n",
    "\n",
    "\n",
    "# Escribe tu nueva función de reporte considerando lo anterior\n",
    "\n",
    "def getMissionReport2(prelauchTime, destination, *flighTime, **fuelTanks):\n",
    "  return f\"\"\"\n",
    "  Detailed Mission Report #2\n",
    "  ______________________________________________\n",
    "  Prelauch Time: {prelauchTime}\n",
    "  Fligh Time: {sum(flighTime)} minutes\n",
    "  Destination: {destination}\n",
    "  total Fuel on Tanks: {sum(fuelTanks.values())} Gal  \n",
    "  \"\"\"\n",
    "\n",
    "print(getMissionReport2(\"Moon\", 60, 120, 240, internalTank=1000, externalTank=2000))\n",
    "\n",
    "\n",
    "# Escribe tu nueva función\n",
    "def getMissionReport3(prelauchTime, destination, *flighTime, **fuelTanks):\n",
    "  reportBase = f\"\"\"\n",
    "  Detailed Mission Report #3\n",
    "  ______________________________________________\n",
    "  Prelauch Time: {prelauchTime}\n",
    "  Fligh Time: {sum(flighTime)} minutes\n",
    "  Destination: {destination}\n",
    "  total Fuel on Tanks: {sum(fuelTanks.values())} Gal \n",
    "  Detailed fuel on Tanks:\n",
    "  \"\"\"\n",
    "  for fuelTank, fuelLeft in fuelTanks.items():\n",
    "    reportBase += f\"{fuelTank}: {fuelLeft} Gal\\n\"\n",
    "\n",
    "  return reportBase\n",
    "\n",
    "print(getMissionReport3(\"Moon\", 60, 120, 240,\n",
    "      internalTank=1000, externalTank=2000))\n"
   ]
  }
 ],
 "metadata": {
  "interpreter": {
   "hash": "0aa81fd4a772a8b1e375e8f720fa044defc14a0a448e8667a1098847b41a8cc6"
  },
  "kernelspec": {
   "display_name": "Python 3.10.2 64-bit (windows store)",
   "language": "python",
   "name": "python3"
  },
  "language_info": {
   "codemirror_mode": {
    "name": "ipython",
    "version": 3
   },
   "file_extension": ".py",
   "mimetype": "text/x-python",
   "name": "python",
   "nbconvert_exporter": "python",
   "pygments_lexer": "ipython3",
   "version": "3.10.2"
  },
  "orig_nbformat": 4
 },
 "nbformat": 4,
 "nbformat_minor": 2
}
