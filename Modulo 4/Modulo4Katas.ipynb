{
 "cells": [
  {
   "cell_type": "markdown",
   "metadata": {},
   "source": [
    "Ejercicio 1:"
   ]
  },
  {
   "cell_type": "code",
   "execution_count": 16,
   "metadata": {},
   "outputs": [
    {
     "name": "stdout",
     "output_type": "stream",
     "text": [
      " \n",
      "On average, the Moon moves 4cm away from the Earth every year\n",
      " The highest daylight temperature of the Celcius Moon is 127 Celcius\n"
     ]
    }
   ],
   "source": [
    "text = \"\"\"Interesting facts about the Moon. The Moon is Earth's only satellite. There are several interesting facts about the Moon and how it affects life here on Earth. \n",
    "On average, the Moon moves 4cm away from the Earth every year. This yearly drift is not significant enough to cause immediate effects on Earth. The highest daylight temperature of the Moon is 127 C.\"\"\"\n",
    "sentences = text.split('.')\n",
    "keywords = ['average', 'temperature']\n",
    "for sentence in sentences:\n",
    "  for keyword in keywords:\n",
    "    if keyword in sentence:\n",
    "      if sentence.endswith(\"C\"):\n",
    "        print(sentence.replace(\"C\", \"Celcius\"))  \n",
    "      else:\n",
    "        print(sentence)\n",
    "      break"
   ]
  },
  {
   "cell_type": "markdown",
   "metadata": {},
   "source": [
    "Ejercicio 2:"
   ]
  },
  {
   "cell_type": "code",
   "execution_count": 36,
   "metadata": {},
   "outputs": [
    {
     "name": "stdout",
     "output_type": "stream",
     "text": [
      "Gravity Facts About Moon \n",
      "--------------------------------------------------------------------------------  \n",
      "Planet Name: Earth \n",
      "Gravity on Moon: 1.6199999999999999 m/s2 \n",
      " \n",
      "\n",
      "Gravity Facts About Moon \n",
      "--------------------------------------------------------------------------------  \n",
      "Planet Name: Earth \n",
      "Gravity on Moon: 1.6199999999999999 m/s2 \n",
      " \n",
      "\n",
      "\n",
      "Gravity facts about: Ganímedes\n",
      "-------------------------------------------------------------------------------\n",
      "Planet Name: Marte \n",
      "Gravity on Ganímedes: 1.4300000000000002 m/s2\n",
      "\n"
     ]
    }
   ],
   "source": [
    "# Datos con los que vas a trabajar\n",
    "name = \"Moon\"\n",
    "gravity = 0.00162  # in kms\n",
    "planet = \"Earth\"\n",
    "\n",
    "# Creamos el título\n",
    "title = f'Gravity facts about {name}'\n",
    "\n",
    "# Creamos la plantilla\n",
    "template = f\"\"\"--------------------------------------------------------------------------------  \n",
    "Planet Name: {planet} \n",
    "Gravity on {name}: {gravity * 1000} m/s2 \n",
    "\"\"\"\n",
    "\n",
    "# Unión de ambas cadenas\n",
    "template = f\"\"\"{title.title()} \n",
    "{template} \n",
    "\"\"\"\n",
    "print(template)\n",
    "\n",
    "#nuevos datos\n",
    "planet = 'Marte '\n",
    "gravity = 0.00143\n",
    "name = 'Ganímedes'\n",
    "\n",
    "print(template)\n",
    "\n",
    "newTemplate = \"\"\"\n",
    "Gravity facts about: {0}\n",
    "-------------------------------------------------------------------------------\n",
    "Planet Name: {1}\n",
    "Gravity on {0}: {2} m/s2\n",
    "\"\"\"\n",
    "\n",
    "print(newTemplate.format(name, planet, gravity * 1000))\n"
   ]
  }
 ],
 "metadata": {
  "interpreter": {
   "hash": "0aa81fd4a772a8b1e375e8f720fa044defc14a0a448e8667a1098847b41a8cc6"
  },
  "kernelspec": {
   "display_name": "Python 3.10.2 64-bit (windows store)",
   "language": "python",
   "name": "python3"
  },
  "language_info": {
   "codemirror_mode": {
    "name": "ipython",
    "version": 3
   },
   "file_extension": ".py",
   "mimetype": "text/x-python",
   "name": "python",
   "nbconvert_exporter": "python",
   "pygments_lexer": "ipython3",
   "version": "3.10.2"
  },
  "orig_nbformat": 4
 },
 "nbformat": 4,
 "nbformat_minor": 2
}
