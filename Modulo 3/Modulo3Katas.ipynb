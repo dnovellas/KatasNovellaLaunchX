{
 "cells": [
  {
   "cell_type": "code",
   "execution_count": null,
   "metadata": {},
   "outputs": [],
   "source": []
  },
  {
   "cell_type": "markdown",
   "metadata": {},
   "source": [
    "# Añadir el código necesario para crear una variable que guarde la velocidad del asteroide.\n",
    "# Escribe una expresión de prueba para calcular si necesita una advertencia.\n",
    "# Agregue las instrucciones que se ejecutarán si la expresión de prueba es true o false."
   ]
  },
  {
   "cell_type": "code",
   "execution_count": 1,
   "metadata": {},
   "outputs": [
    {
     "name": "stdout",
     "output_type": "stream",
     "text": [
      "Armagedon!!\n"
     ]
    }
   ],
   "source": [
    "velocidadMaximaAsteroide = 25\n",
    "velocidadAsteroide = 49\n",
    "if velocidadAsteroide >= velocidadMaximaAsteroide:\n",
    "  print(\"Armagedon!!\")"
   ]
  },
  {
   "cell_type": "markdown",
   "metadata": {},
   "source": [
    "# Agrega el código para crear una variable para un asteroide que viaja a 19 km/s\n",
    "# Escribe varias expresiones de prueba para determinar si puedes ver el rayo de luz desde la tierra\n",
    "# Agrega las instrucciones que se ejecutarán si las expresiones de prueba son True o False\n"
   ]
  },
  {
   "cell_type": "code",
   "execution_count": null,
   "metadata": {},
   "outputs": [],
   "source": [
    "asteroideVisible = 20\n",
    "asteroide = 19\n",
    "\n",
    "if asteroide >= asteroideVisible:\n",
    "  print(\"Look up!\")\n",
    "else:\n",
    "  print(\"don't look up!\")"
   ]
  },
  {
   "cell_type": "markdown",
   "metadata": {},
   "source": [
    "# Agrega el código para crear nuevas variables para la velocidad y el tamaño del asteroide\n",
    "# Para probar el código, prueba con varias velocidades y tamaños\n",
    "# Escribe varias expresiones de prueba o combinaciones de expresiones de prueba para determinar qué mensaje se debe enviar a Tierra."
   ]
  },
  {
   "cell_type": "code",
   "execution_count": 2,
   "metadata": {},
   "outputs": [
    {
     "name": "stdout",
     "output_type": "stream",
     "text": [
      "Look up! ¡Lumos!\n"
     ]
    }
   ],
   "source": [
    "velocidadReferencia = 25\n",
    "tamanoReferencia = 25\n",
    "velocidadAsteroide = 25\n",
    "tamanoAsteroide = 40\n",
    "if velocidadAsteroide > velocidadReferencia and tamanoAsteroide > tamanoReferencia:\n",
    "    print('Armagedon!')\n",
    "elif velocidadAsteroide >= velocidadReferencia:\n",
    "    print('Look up! ¡Lumos!')\n",
    "elif tamanoAsteroide < tamanoReferencia:\n",
    "    print('Nox :)')\n",
    "else:\n",
    "    print('just nothing)')\n"
   ]
  }
 ],
 "metadata": {
  "interpreter": {
   "hash": "0aa81fd4a772a8b1e375e8f720fa044defc14a0a448e8667a1098847b41a8cc6"
  },
  "kernelspec": {
   "display_name": "Python 3.10.2 64-bit (windows store)",
   "language": "python",
   "name": "python3"
  },
  "language_info": {
   "codemirror_mode": {
    "name": "ipython",
    "version": 3
   },
   "file_extension": ".py",
   "mimetype": "text/x-python",
   "name": "python",
   "nbconvert_exporter": "python",
   "pygments_lexer": "ipython3",
   "version": "3.10.2"
  },
  "orig_nbformat": 4
 },
 "nbformat": 4,
 "nbformat_minor": 2
}
