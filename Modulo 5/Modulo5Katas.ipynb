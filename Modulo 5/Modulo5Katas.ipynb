{
 "cells": [
  {
   "cell_type": "markdown",
   "metadata": {},
   "source": [
    "Ejercicio 1:"
   ]
  },
  {
   "cell_type": "code",
   "execution_count": 4,
   "metadata": {},
   "outputs": [
    {
     "name": "stdout",
     "output_type": "stream",
     "text": [
      "628949330 Kilometers\n",
      "390577533.93 Miles\n"
     ]
    }
   ],
   "source": [
    "# Crear variables para almacenar las dos distancias\n",
    "# ¡Asegúrate de quitar las comas!\n",
    "earth = 149597870\n",
    "jupyter = 778547200\n",
    "# Calcular la distancia entre planetas\n",
    "\n",
    "distance = jupyter - earth\n",
    "print(str(distance) + \" Kilometers\")\n",
    "print(str(distance * 0.621 )+ \" Miles\")\n"
   ]
  },
  {
   "cell_type": "markdown",
   "metadata": {},
   "source": [
    "Ejercicio 2:"
   ]
  },
  {
   "cell_type": "code",
   "execution_count": 3,
   "metadata": {},
   "outputs": [
    {
     "name": "stdout",
     "output_type": "stream",
     "text": [
      "50300000 Kilometers\n",
      "30683000.0 Miles\n"
     ]
    }
   ],
   "source": [
    "# Almacenar las entradas del usuario\n",
    "#Pista: variable = input(\"¿Cuál es tu nombre?\")\n",
    "firstPlanetInput = input(\"Distance from the sun of the first planet\")\n",
    "secongPlanetInput = input(\"Distance from the sun of the second planet\")\n",
    "# Convierte las cadenas de ambos planetas a números enteros\n",
    "firstPlanet = int(firstPlanetInput)\n",
    "secongPlanet = int(secongPlanetInput)\n",
    "# Realizar el cálculo y determinar el valor absoluto\n",
    "distanceFromPlanets = abs(secongPlanet - firstPlanet)\n",
    "# Convertir de KM a Millas\n",
    "print(str(distanceFromPlanets) + \" Kilometers\")\n",
    "print(str(distanceFromPlanets*0.61) + \" Miles\")\n"
   ]
  }
 ],
 "metadata": {
  "interpreter": {
   "hash": "0aa81fd4a772a8b1e375e8f720fa044defc14a0a448e8667a1098847b41a8cc6"
  },
  "kernelspec": {
   "display_name": "Python 3.10.2 64-bit (windows store)",
   "language": "python",
   "name": "python3"
  },
  "language_info": {
   "codemirror_mode": {
    "name": "ipython",
    "version": 3
   },
   "file_extension": ".py",
   "mimetype": "text/x-python",
   "name": "python",
   "nbconvert_exporter": "python",
   "pygments_lexer": "ipython3",
   "version": "3.10.2"
  },
  "orig_nbformat": 4
 },
 "nbformat": 4,
 "nbformat_minor": 2
}
